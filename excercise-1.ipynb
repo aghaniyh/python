{
 "cells": [
  {
   "cell_type": "code",
   "execution_count": null,
   "metadata": {},
   "outputs": [],
   "source": [
    "message = \"Python\"\n",
    "Greeting = (\"Hello \")\n",
    "print(f\"{Greeting} {message}\")\n"
   ]
  },
  {
   "cell_type": "code",
   "execution_count": null,
   "metadata": {},
   "outputs": [],
   "source": [
    "a = 5\n",
    "b = 10\n",
    "\n",
    "# perform addition expected output is 15\n",
    "addition = a+b\n",
    "print(addition)\n",
    "\n",
    "# perform concatenation expected output is 510\n",
    "concatenation = (str(a)+str(b))\n",
    "print(concatenation)\n",
    "\n",
    "\n",
    "email = \"python_dev@estarta.com\"\n",
    "\n",
    "# extract domain from email\n",
    "domain = email[11:18]\n",
    "print(domain)"
   ]
  },
  {
   "cell_type": "code",
   "execution_count": null,
   "metadata": {},
   "outputs": [],
   "source": [
    "cars = [\"Toyota\", \"Mercedes\", \"BMW\", \"Jeep\"]\n",
    "\n",
    "# add \"Honda\" to the list\n",
    "cars = [\"Toyota\", \"Mercedes\", \"BMW\", \"Jeep\" , \"Honda\"]\n",
    "print(cars)\n",
    "\n",
    "# replace the second element with \"Ford\"\n",
    "cars[1]=\"Ford\"\n",
    "print (cars)\n",
    "\n",
    "# remove Toyota from the list\n",
    "del cars[0]\n",
    "print(cars)\n",
    "\n",
    "# print True if Subaru is in the list else False\n",
    "print('Subaro' in cars)\n"
   ]
  },
  {
   "cell_type": "code",
   "execution_count": null,
   "metadata": {},
   "outputs": [],
   "source": [
    "# complete the code to perform the operations listed below\"\n",
    "\n",
    "#Create a new dictionary with the following key-value pairs: \"name\": \"Ahmad\", \"age\": 25, \"occupation\": \"doctor\", \"country\": \"Jordan\"\n",
    "person = {'name': 'Ahmad', 'age': 25, 'occupation': 'doctor', 'country': 'Jordan'}\n",
    "print(person)\n",
    "\n",
    "\n",
    "#Add a new key-value pair with \"city\": \"Amman\"\n",
    "person[\"city\"] = \"Amman\"\n",
    "print(person)\n",
    "\n",
    "#Update the occupation to \"Surgeon\"\n",
    "person[\"occupation\"] = \"Surgeon\"\n",
    "print(person)\n",
    "\n",
    "#Remove the \"country\" key-value pair from the dictionary.\n",
    "del person[\"country\"]\n",
    "print(person)\n"
   ]
  },
  {
   "cell_type": "code",
   "execution_count": null,
   "metadata": {},
   "outputs": [],
   "source": [
    "numbers = {2, 5, 16, 8, 7, 9, 3, 1}\n",
    "# your code here\n",
    "\n",
    "#Check if 4 is in the set.\n",
    "find4 = 4 in numbers\n",
    "print(find4)\n",
    "\n",
    "#Add 5 to the set.\n",
    "numbers.add(5)\n",
    "print(numbers)\n",
    "\n",
    "\n",
    "#Remove 3 from the set.\n",
    "numbers.remove(3)\n",
    "print(numbers)\n",
    "\n",
    "#Try to add a duplicate element to the set\n",
    "numbers.add(2)\n",
    "print(numbers)\n",
    "\n",
    "\n",
    "#Create a new set that contains numbers from in the range of m+1 to m+10, where m is the maximum number in the \"numbers\" set.\n",
    "s = max(numbers)\n",
    "repetition = {s + i for i in range(1, 11)}\n",
    "print(repetition)\n",
    "\n",
    "#Create a set that is the union of the two sets.\n",
    "lastSet = (numbers.union(repetition))\n",
    "print(lastSet)\n"
   ]
  }
 ],
 "metadata": {
  "language_info": {
   "name": "python"
  }
 },
 "nbformat": 4,
 "nbformat_minor": 2
}
